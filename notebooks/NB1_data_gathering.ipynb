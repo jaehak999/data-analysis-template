{
 "metadata": {
  "name": "",
  "signature": "sha256:644d7f3247edba8004ac70632e7b42e57ee84d1fe0b54947ed393cb48bf136ec"
 },
 "nbformat": 3,
 "nbformat_minor": 0,
 "worksheets": [
  {
   "cells": [
    {
     "cell_type": "markdown",
     "metadata": {},
     "source": [
      "##Team members responsible for this notebook:\n",
      "\n",
      "* Team Member 1: Jaehak Yu \u2014\u00a0Responsible for locating link, isolating variables\n",
      "* Team Member 2: Ha Nguyen \u2014 Responsible for converting xls into csv\n",
      "* Team Member 3: Micky Wong \u2014 Responsible for uploading csv files into ./data/raw folder"
     ]
    },
    {
     "cell_type": "heading",
     "level": 1,
     "metadata": {},
     "source": [
      "Team Red Bear: Data Gathering"
     ]
    },
    {
     "cell_type": "markdown",
     "metadata": {},
     "source": [
      "First we go about by creating all the necessary files, as shown in previous examples, and to make them accessible to all who wish to utilize the same data we have."
     ]
    },
    {
     "cell_type": "code",
     "collapsed": false,
     "input": [
      "%%bash\n",
      "\n",
      "mkdir ./script ./data ./data/raw ./data/cleaned ./data/simulated ./visualizations\n",
      "ls -r"
     ],
     "language": "python",
     "metadata": {},
     "outputs": [
      {
       "output_type": "stream",
       "stream": "stdout",
       "text": [
        "visualizations\n",
        "script\n",
        "data\n",
        "Untitled0.ipynb\n",
        "README.md\n",
        "NB4_project_report.ipynb\n",
        "NB3_data_analysis.ipynb\n",
        "NB2_data_cleaning.ipynb\n",
        "NB1_data_gathering.ipynb\n"
       ]
      },
      {
       "output_type": "stream",
       "stream": "stderr",
       "text": [
        "mkdir: ./script: File exists\n",
        "mkdir: ./data: File exists\n",
        "mkdir: ./data/raw: File exists\n",
        "mkdir: ./data/cleaned: File exists\n",
        "mkdir: ./data/simulated: File exists\n",
        "mkdir: ./visualizations: File exists\n"
       ]
      }
     ],
     "prompt_number": 11
    },
    {
     "cell_type": "markdown",
     "metadata": {},
     "source": [
      "With this complete, we proceed to download all the relevant files for the project. Each file has demographic information on over 3000 US counties along with a multitude of variables, constituting a wealth of data. By downloading all data in CSV files we create an easy and accessible source of data for everyone to work with and access."
     ]
    },
    {
     "cell_type": "code",
     "collapsed": false,
     "input": [
      "%load_ext rmagic"
     ],
     "language": "python",
     "metadata": {},
     "outputs": [],
     "prompt_number": 22
    },
    {
     "cell_type": "code",
     "collapsed": false,
     "input": [
      "%%R\n",
      "\n",
      "demog_url  = 'https://docs.google.com/spreadsheet/pub?key=0An-NKSZPgC0OdExrTUpIUWZUblZKVmM5YngyclhBNVE&output=csv'\n",
      "demog_file = './data/raw/demographics.csv'\n",
      "\n",
      "download.file(demog_url, demog_file, method=\"curl\")\n",
      "\n",
      "death_url = 'https://www.dropbox.com/s/4l566gzg5ry818b/LEADINGCAUSESOFDEATH.csv'\n",
      "death_file = './data/raw/leadingcauseofdeath.csv'\n",
      "\n",
      "download.file(death_url, death_file, method=\"curl\", extra='-L')\n",
      "\n",
      "measures_url = 'https://www.dropbox.com/s/twvswlrix0kyqbw/MEASURESOFBIRTHANDDEATH.csv'\n",
      "measures_file = './data/raw/measuresofbirthanddeath.csv'\n",
      "\n",
      "download.file(measures_url, measures_file, method=\"curl\", extra='-L')\n",
      "\n",
      "prevent_url = 'https://www.dropbox.com/s/qfaq98m9qpa9o01/PREVENTIVESERVICESUSE.csv'\n",
      "prevent_file = './data/raw/preventitiveserviceuse.csv'\n",
      "\n",
      "download.file(prevent_url, prevent_file, method=\"curl\", extra='-L')\n",
      "\n",
      "relative_url = 'https://www.dropbox.com/s/p7lo5yi3grt6fq3/RELATIVEHEALTHIMPORTANCE.csv'\n",
      "relative_file = './data/raw/relativehealthimportance.csv'\n",
      "\n",
      "download.file(relative_url, relative_file, method=\"curl\", extra='-L')\n",
      "\n",
      "risk_url = 'https://www.dropbox.com/s/itu1q6e670niq1y/RISKFACTORSANDACCESSTOCARE.csv'\n",
      "risk_file = './data/raw/riskfactorsandaccesstocare.csv'\n",
      "\n",
      "download.file(risk_url, risk_file, method=\"curl\", extra='-L')\n",
      "\n",
      "summary_url = 'https://www.dropbox.com/s/9gsfnzx6ae79sfa/SUMMARYMEASURESOFHEALTH.csv'\n",
      "summary_file = './data/raw/summarymeasuresofhealth.csv'\n",
      "\n",
      "download.file(summary_url, summary_file, method=\"curl\", extra='-L')\n",
      "\n",
      "vulnerable_url = 'https://www.dropbox.com/s/dllk7r2zz2ym60f/VUNERABLEPOPSANDENVHEALTH.csv'\n",
      "vulnerable_file = './data/raw/vulnerablepopsandenvhealth.csv'\n",
      "\n",
      "download.file(vulnerable_url, vulnerable_file, method=\"curl\", extra='-L')"
     ],
     "language": "python",
     "metadata": {},
     "outputs": [],
     "prompt_number": 51
    },
    {
     "cell_type": "markdown",
     "metadata": {},
     "source": [
      "Side Note: All data is made available from www.data.gov (specifically: https://catalog.data.gov/dataset/community-health-status-indicators-chsi-to-combat-obesity-heart-disease-and-cancer/resource/6c143e9a-0c0f-486b-8cca-1415a2b91808). \n",
      "\n",
      "www.data.gov is an online government database that compiles relevent statistics on the countywide level on a wide variety of items. "
     ]
    }
   ],
   "metadata": {}
  }
 ]
}