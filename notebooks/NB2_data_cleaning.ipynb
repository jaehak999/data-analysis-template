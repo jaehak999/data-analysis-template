{
 "metadata": {
  "name": "NB2_data_cleaning"
 },
 "nbformat": 3,
 "nbformat_minor": 0,
 "worksheets": [
  {
   "cells": [
    {
     "cell_type": "markdown",
     "metadata": {},
     "source": [
      "In this notebook, you'll\n",
      "\n",
      "* **load the raw data into R or Pandas dataframe** from the <code>./data/raw</code> directory using the functions and classes (written during the data gathering phase) in the <code>./script</code> directory\n",
      "\n",
      "\n",
      "* **perform visual exploration** on your data variables to detect anomalies, errors, outliers, interesting features etc.\n",
      "\n",
      "\n",
      "\n",
      "* **clean categorical and quantitative variables** (by removing observations and variables with too many missing values, by consolidating categorical variables, by selecting an appropriate subset of variables and observations for later analysis, etc.)\n",
      "\n",
      "\n",
      "* **save the cleaned data** into csv files in the <code>./data/cleaned</code> directory\n",
      "\n",
      "\n",
      "* **save interesting graphics** you obtained during visual exploration into the <code>./visualiation</code> directory"
     ]
    },
    {
     "cell_type": "markdown",
     "metadata": {},
     "source": [
      "##Team members responsible for this notebook:\n",
      "\n",
      "List the team members contributing to this notebook, along with their responsabilities:\n",
      "\n",
      "* team member 1 **name**: team member 1 **responsabilities**\n",
      "* team member 2 **name**: team member 2 **responsabilities**\n",
      "* etc.\n",
      "\n",
      "I advise you to work at least in pairs for each project notebook, as you did for the homework assignments. Of course, all team members may participate to each notebook. "
     ]
    },
    {
     "cell_type": "heading",
     "level": 2,
     "metadata": {},
     "source": [
      "Example"
     ]
    },
    {
     "cell_type": "markdown",
     "metadata": {},
     "source": [
      "Here I'll load the plant data in xml format into a R data frame using the \n",
      "\n",
      "    create_df_from_plant_xml(file)\n",
      "    \n",
      "function contained in the R script \n",
      "\n",
      "        ./script/plant_df-R"
     ]
    },
    {
     "cell_type": "code",
     "collapsed": false,
     "input": [
      "%load_ext rmagic"
     ],
     "language": "python",
     "metadata": {},
     "outputs": [
      {
       "output_type": "stream",
       "stream": "stdout",
       "text": [
        "The rmagic extension is already loaded. To reload it, use:\n",
        "  %reload_ext rmagic\n"
       ]
      }
     ],
     "prompt_number": 4
    },
    {
     "cell_type": "markdown",
     "metadata": {},
     "source": [
      "To load the function into a R cell, one needs to use the\n",
      "\n",
      "    source(R_script_file)\n",
      "command in R, which works in a similar way as the \n",
      "\n",
      "    import module\n",
      "command in Python:"
     ]
    },
    {
     "cell_type": "code",
     "collapsed": false,
     "input": [
      "%%R \n",
      "\n",
      "source('./script/plant_df-R')"
     ],
     "language": "python",
     "metadata": {},
     "outputs": [],
     "prompt_number": 5
    },
    {
     "cell_type": "markdown",
     "metadata": {},
     "source": [
      "Now, we can create a data frame directly from the XML file using the functin contained in the scrip above.\n",
      "\n",
      "If you wish to perform the cleaning using Pandas data frames instead of R data frames, one make the R data frame available to Python cells by using the R magic command:\n",
      "\n",
      "    %%R -d df_name\n",
      "\n",
      "To know more on how to pass variables back and forth between R and Python cells, please have a look at the notebook [here](http://nbviewer.ipython.org/url/github.com/ipython/ipython/raw/master/examples/notebooks/R%20Magics.ipynb)."
     ]
    },
    {
     "cell_type": "code",
     "collapsed": false,
     "input": [
      "%%R -d data\n",
      "\n",
      "library(XML)\n",
      "\n",
      "data = create_df_from_plant_xml('./data/raw/plant.xml')\n"
     ],
     "language": "python",
     "metadata": {},
     "outputs": [],
     "prompt_number": 7
    },
    {
     "cell_type": "markdown",
     "metadata": {},
     "source": [
      "Now let's load our data into a Pandas data frame:"
     ]
    },
    {
     "cell_type": "code",
     "collapsed": false,
     "input": [
      "from pandas import DataFrame\n",
      "\n",
      "df = DataFrame(data)\n",
      "df.head()"
     ],
     "language": "python",
     "metadata": {},
     "outputs": [
      {
       "html": [
        "<div style=\"max-height:1000px;max-width:1500px;overflow:auto;\">\n",
        "<table border=\"1\" class=\"dataframe\">\n",
        "  <thead>\n",
        "    <tr style=\"text-align: right;\">\n",
        "      <th></th>\n",
        "      <th>COMMON</th>\n",
        "      <th>BOTANICAL</th>\n",
        "      <th>ZONE</th>\n",
        "      <th>LIGHT</th>\n",
        "      <th>PRICE</th>\n",
        "      <th>AVAILABILITY</th>\n",
        "    </tr>\n",
        "  </thead>\n",
        "  <tbody>\n",
        "    <tr>\n",
        "      <th>0</th>\n",
        "      <td>           Bloodroot</td>\n",
        "      <td> Sanguinaria canadensis</td>\n",
        "      <td> 4</td>\n",
        "      <td> Mostly Shady</td>\n",
        "      <td> $2.44</td>\n",
        "      <td> 031599</td>\n",
        "    </tr>\n",
        "    <tr>\n",
        "      <th>1</th>\n",
        "      <td>           Columbine</td>\n",
        "      <td>   Aquilegia canadensis</td>\n",
        "      <td> 3</td>\n",
        "      <td> Mostly Shady</td>\n",
        "      <td> $9.37</td>\n",
        "      <td> 030699</td>\n",
        "    </tr>\n",
        "    <tr>\n",
        "      <th>2</th>\n",
        "      <td>      Marsh Marigold</td>\n",
        "      <td>       Caltha palustris</td>\n",
        "      <td> 4</td>\n",
        "      <td> Mostly Sunny</td>\n",
        "      <td> $6.81</td>\n",
        "      <td> 051799</td>\n",
        "    </tr>\n",
        "    <tr>\n",
        "      <th>3</th>\n",
        "      <td>             Cowslip</td>\n",
        "      <td>       Caltha palustris</td>\n",
        "      <td> 4</td>\n",
        "      <td> Mostly Shady</td>\n",
        "      <td> $9.90</td>\n",
        "      <td> 030699</td>\n",
        "    </tr>\n",
        "    <tr>\n",
        "      <th>4</th>\n",
        "      <td> Dutchman's-Breeches</td>\n",
        "      <td>    Dicentra cucullaria</td>\n",
        "      <td> 3</td>\n",
        "      <td> Mostly Shady</td>\n",
        "      <td> $6.44</td>\n",
        "      <td> 012099</td>\n",
        "    </tr>\n",
        "  </tbody>\n",
        "</table>\n",
        "</div>"
       ],
       "metadata": {},
       "output_type": "pyout",
       "prompt_number": 8,
       "text": [
        "                COMMON               BOTANICAL ZONE         LIGHT  PRICE AVAILABILITY\n",
        "0            Bloodroot  Sanguinaria canadensis    4  Mostly Shady  $2.44       031599\n",
        "1            Columbine    Aquilegia canadensis    3  Mostly Shady  $9.37       030699\n",
        "2       Marsh Marigold        Caltha palustris    4  Mostly Sunny  $6.81       051799\n",
        "3              Cowslip        Caltha palustris    4  Mostly Shady  $9.90       030699\n",
        "4  Dutchman's-Breeches     Dicentra cucullaria    3  Mostly Shady  $6.44       012099"
       ]
      }
     ],
     "prompt_number": 8
    },
    {
     "cell_type": "markdown",
     "metadata": {},
     "source": [
      "The actual data cleaning can now begins!"
     ]
    },
    {
     "cell_type": "heading",
     "level": 1,
     "metadata": {},
     "source": [
      "Team Red Bear: Data Cleaning"
     ]
    },
    {
     "cell_type": "markdown",
     "metadata": {},
     "source": [
      "As we loaded our files as CSV files to begin with, there was no need to transform XML or XLS files into CSV. Instead we start off immediately with the data analysis. The files we have chosen to look into from the original data provided were:\n",
      "\n",
      "1. Demographics (Population Size, Population Density, Poverty Levels)\n",
      "2. Summary Measures of Health (Average Life Expectancy, Health Status, Number of Unhealthy Days)\n",
      "3. Vulnerable Populations and Environmental Health (Percentage without High School Diplomas, Unemployment Rate, Recent Drug Use, Major Depression)\n",
      "4. Risk Factors and Access to Care (Obesity)\n",
      "\n",
      "We start now with loading the files into dataframes. First, with the demographics file we target the relevant columns."
     ]
    },
    {
     "cell_type": "code",
     "collapsed": false,
     "input": [
      "%load_ext rmagic"
     ],
     "language": "python",
     "metadata": {},
     "outputs": [],
     "prompt_number": 84
    },
    {
     "cell_type": "code",
     "collapsed": false,
     "input": [
      "%%R\n",
      "\n",
      "demographics = read.csv('./data/raw/demographics.csv')\n",
      "names = colnames(demographics)\n",
      "print(names)"
     ],
     "language": "python",
     "metadata": {},
     "outputs": [
      {
       "output_type": "display_data",
       "text": [
        " [1] \"State_FIPS_Code\"            \"County_FIPS_Code\"          \n",
        " [3] \"CHSI_County_Name\"           \"CHSI_State_Name\"           \n",
        " [5] \"CHSI_State_Abbr\"            \"Strata_ID_Number\"          \n",
        " [7] \"Strata_Determining_Factors\" \"Number_Counties\"           \n",
        " [9] \"Population_Size\"            \"Min_Population_Size\"       \n",
        "[11] \"Max_Population_Size\"        \"Population_Density\"        \n",
        "[13] \"Min_Population_Density\"     \"Max_Population_Density\"    \n",
        "[15] \"Poverty\"                    \"Min_Poverty\"               \n",
        "[17] \"Max_Poverty\"                \"Age_19_Under\"              \n",
        "[19] \"Min_Age_19_Under\"           \"Max_Age_19_Under\"          \n",
        "[21] \"Age_19_64\"                  \"Min_Age_19_64\"             \n",
        "[23] \"Max_Age_19_65\"              \"Age_65_84\"                 \n",
        "[25] \"Min_Age_65_84\"              \"Max_Age_65_85\"             \n",
        "[27] \"Age_85_and_Over\"            \"Min_Age_85_and_Over\"       \n",
        "[29] \"Max_Age_85_and_Over\"        \"White\"                     \n",
        "[31] \"Min_White\"                  \"Max_White\"                 \n",
        "[33] \"Black\"                      \"Min_Black\"                 \n",
        "[35] \"Max_Black\"                  \"Native_American\"           \n",
        "[37] \"Min_Native_American\"        \"Max_Native_American\"       \n",
        "[39] \"Asian\"                      \"Min_Asian\"                 \n",
        "[41] \"Max_Asian\"                  \"Hispanic\"                  \n",
        "[43] \"Min_Hispanic\"               \"Max_Hispanic\"              \n"
       ]
      }
     ],
     "prompt_number": 85
    },
    {
     "cell_type": "code",
     "collapsed": false,
     "input": [
      "%%R\n",
      "\n",
      "population_size = demographics[['Population_Size']]\n",
      "\n",
      "population_density = demographics[['Population_Density']]\n",
      "\n",
      "poverty = demographics[['Poverty']]"
     ],
     "language": "python",
     "metadata": {},
     "outputs": [],
     "prompt_number": 86
    },
    {
     "cell_type": "markdown",
     "metadata": {},
     "source": [
      "Because some counties are small, we find that there are NA values (demarked as -2222) in both the Population Density and Poverty data. But because every list much be cleaned, we gather first the indexes of the NA values within each list in order to clean all the lists at once."
     ]
    },
    {
     "cell_type": "code",
     "collapsed": false,
     "input": [
      "%%R\n",
      "\n",
      "NA_poverty = which(poverty < 0)\n",
      "NA_population_density = which(population_density < 0)\n",
      "NA_population_size = which(population_size < 0)\n",
      "\n",
      "print(NA_population_density)"
     ],
     "language": "python",
     "metadata": {},
     "outputs": [
      {
       "output_type": "display_data",
       "text": [
        "[1] 250\n"
       ]
      }
     ],
     "prompt_number": 87
    },
    {
     "cell_type": "markdown",
     "metadata": {},
     "source": [
      "Now that we know what the indexes within the demographics file, we add it into a list of which indexes are demarked as NA. Once compiling the total list of all values we will remove all the NA files from every single column in the final cleaned version."
     ]
    },
    {
     "cell_type": "code",
     "collapsed": false,
     "input": [
      "%%R\n",
      "\n",
      "NA_list = c(NA_poverty, NA_population_density, NA_population_size)\n",
      "print(NA_list)"
     ],
     "language": "python",
     "metadata": {},
     "outputs": [
      {
       "output_type": "display_data",
       "text": [
        "[1] 547 250\n"
       ]
      }
     ],
     "prompt_number": 88
    },
    {
     "cell_type": "markdown",
     "metadata": {},
     "source": [
      "We then proceed with what we've been doing to every other file of interest."
     ]
    },
    {
     "cell_type": "code",
     "collapsed": false,
     "input": [
      "%%R\n",
      "\n",
      "summary = read.csv('./data/raw/summarymeasuresofhealth.csv')\n",
      "names = colnames(summary)\n",
      "print(names)"
     ],
     "language": "python",
     "metadata": {},
     "outputs": [
      {
       "output_type": "display_data",
       "text": [
        " [1] \"State_FIPS_Code\"       \"County_FIPS_Code\"      \"CHSI_County_Name\"     \n",
        " [4] \"CHSI_State_Name\"       \"CHSI_State_Abbr\"       \"Strata_ID_Number\"     \n",
        " [7] \"ALE\"                   \"Min_ALE\"               \"Max_ALE\"              \n",
        "[10] \"US_ALE\"                \"All_Death\"             \"Min_All_Death\"        \n",
        "[13] \"Max_All_Death\"         \"US_All_Death\"          \"CI_Min_All_Death\"     \n",
        "[16] \"CI_Max_All_Death\"      \"Health_Status\"         \"Min_Health_Status\"    \n",
        "[19] \"Max_Health_Status\"     \"US_Health_Status\"      \"CI_Min_Health_Status\" \n",
        "[22] \"CI_Max_Health_Status\"  \"Unhealthy_Days\"        \"Min_Unhealthy_Days\"   \n",
        "[25] \"Max_Unhealthy_Days\"    \"US_Unhealthy_Days\"     \"CI_Min_Unhealthy_Days\"\n",
        "[28] \"CI_Max_Unhealthy_Days\"\n"
       ]
      }
     ],
     "prompt_number": 92
    },
    {
     "cell_type": "code",
     "collapsed": false,
     "input": [
      "%%R\n",
      "\n",
      "avg_life_expectancy = summary[['ALE']]\n",
      "\n",
      "health_status = summary[['health_status']]\n",
      "\n",
      "unhealthy_days = summary[['Unhealthy_Days']]"
     ],
     "language": "python",
     "metadata": {},
     "outputs": [],
     "prompt_number": 94
    },
    {
     "cell_type": "code",
     "collapsed": false,
     "input": [
      "%%R\n",
      "\n",
      "NA_ALE = which(avg_life_expectancy < 0)\n",
      "NA_health_status = which(health_status < 0)\n",
      "NA_unhealthy_days = which(unhealthy_days < 0)\n",
      "\n",
      "NA_list = c(NA_list, NA_ALE, NA_health_status, NA_unhealthy_days)"
     ],
     "language": "python",
     "metadata": {},
     "outputs": [],
     "prompt_number": 96
    },
    {
     "cell_type": "code",
     "collapsed": false,
     "input": [
      "%%R\n",
      "\n",
      "risk = read.csv('./data/raw/riskfactorsandaccesstocare.csv')\n",
      "names = colnames(risk)\n",
      "print(names)"
     ],
     "language": "python",
     "metadata": {},
     "outputs": [
      {
       "output_type": "display_data",
       "text": [
        " [1] \"State_FIPS_Code\"             \"County_FIPS_Code\"           \n",
        " [3] \"CHSI_County_Name\"            \"CHSI_State_Name\"            \n",
        " [5] \"CHSI_State_Abbr\"             \"Strata_ID_Number\"           \n",
        " [7] \"No_Exercise\"                 \"CI_Min_No_Exercise\"         \n",
        " [9] \"CI_Max_No_Exercise\"          \"Few_Fruit_Veg\"              \n",
        "[11] \"CI_Min_Fruit_Veg\"            \"CI_Max_Fruit_Veg\"           \n",
        "[13] \"Obesity\"                     \"CI_Min_Obesity\"             \n",
        "[15] \"CI_Max_Obesity\"              \"High_Blood_Pres\"            \n",
        "[17] \"CI_Min_High_Blood_Pres\"      \"CI_Max_High_Blood_Pres\"     \n",
        "[19] \"Smoker\"                      \"CI_Min_Smoker\"              \n",
        "[21] \"CI_Max_Smoker\"               \"Diabetes\"                   \n",
        "[23] \"CI_Min_Diabetes\"             \"CI_Max_Diabetes\"            \n",
        "[25] \"Uninsured\"                   \"Elderly_Medicare\"           \n",
        "[27] \"Disabled_Medicare\"           \"Prim_Care_Phys_Rate\"        \n",
        "[29] \"Dentist_Rate\"                \"Community_Health_Center_Ind\"\n",
        "[31] \"HPSA_Ind\"                   \n"
       ]
      }
     ],
     "prompt_number": 97
    },
    {
     "cell_type": "code",
     "collapsed": false,
     "input": [
      "%%R\n",
      "\n",
      "uninsured = risk[['Uninsured']]\n",
      "\n",
      "smoker = risk[['Smoker']]\n",
      "\n",
      "obesity = risk[['Obesity']]\n",
      "\n",
      "primary_care_physicians = risk[['Prim_Care_Phys_rate']]"
     ],
     "language": "python",
     "metadata": {},
     "outputs": [],
     "prompt_number": 98
    },
    {
     "cell_type": "code",
     "collapsed": false,
     "input": [
      "%%R\n",
      "\n",
      "NA_uninsured = which(uninsured < 0)\n",
      "NA_smoker = which(smoker < 0)\n",
      "NA_obesity = which(obesity < 0)\n",
      "NA_primary_care = which(primary_care_physicians < 0)\n",
      "\n",
      "NA_list = c(NA_list, NA_uninsured, NA_smoker, NA_obesity, NA_primary_care)"
     ],
     "language": "python",
     "metadata": {},
     "outputs": [],
     "prompt_number": 99
    },
    {
     "cell_type": "code",
     "collapsed": false,
     "input": [
      "%%R\n",
      "\n",
      "NA_cleaned_list = unique(NA_list)\n",
      "print(NA_cleaned_list)"
     ],
     "language": "python",
     "metadata": {},
     "outputs": [
      {
       "output_type": "display_data",
       "text": [
        "   [1]  547  250   88   93    3    4    6   12   21   30   32   38   53   65\n",
        "  [15]   66   68   69   70   71   72   73   74   75   76   77   78   79   80\n",
        "  [29]   81   82   83   84   85   86   87   89   90   91   92   94  148  186\n",
        "  [43]  187  190  192  195  198  202  206  209  210  216  230  237  247  248\n",
        "  [57]  252  254  255  256  257  260  267  270  271  272  274  276  279  280\n",
        "  [71]  283  289  291  295  296  298  299  300  301  304  332  336  339  341\n",
        "  [85]  343  351  357  381  388  389  391  403  404  411  415  417  424  426\n",
        "  [99]  430  431  435  447  455  459  464  467  469  470  471  475  483  484\n",
        " [113]  485  488  499  503  505  508  513  515  516  518  527  528  530  534\n",
        " [127]  537  542  543  562  566  598  600  602  606  607  611  617  623  624\n",
        " [141]  626  628  629  633  635  637  644  657  658  663  667  669  670  671\n",
        " [155]  673  676  678  679  681  686  688  689  690  753  758  773  776  896\n",
        " [169]  903  911  919  922  924  928  941  963  976  980  981  984  986  990\n",
        " [183] 1011 1024 1030 1031 1082 1090 1103 1129 1231 1236 1256 1265 1271 1272\n",
        " [197] 1277 1280 1289 1293 1295 1296 1297 1300 1306 1318 1328 1338 1347 1351\n",
        " [211] 1353 1356 1366 1375 1379 1384 1390 1396 1427 1431 1451 1462 1499 1510\n",
        " [225] 1515 1524 1548 1571 1580 1582 1602 1613 1615 1624 1631 1634 1636 1648\n",
        " [239] 1651 1655 1656 1657 1687 1690 1695 1698 1704 1709 1710 1711 1727 1735\n",
        " [253] 1738 1744 1750 1751 1759 1804 1805 1847 1875 1903 1936 1940 1957 1960\n",
        " [267] 1977 1992 2005 2012 2021 2030 2032 2042 2048 2051 2052 2065 2068 2074\n",
        " [281] 2075 2076 2077 2078 2079 2081 2085 2087 2090 2094 2097 2099 2100 2102\n",
        " [295] 2103 2104 2107 2109 2110 2122 2123 2129 2142 2144 2158 2159 2163 2200\n",
        " [309] 2217 2231 2234 2241 2254 2269 2271 2276 2295 2299 2368 2370 2391 2394\n",
        " [323] 2397 2407 2419 2430 2440 2443 2446 2450 2451 2457 2460 2467 2468 2469\n",
        " [337] 2470 2474 2477 2482 2490 2491 2494 2495 2498 2503 2507 2511 2513 2514\n",
        " [351] 2523 2525 2526 2527 2530 2531 2533 2534 2537 2538 2543 2544 2545 2547\n",
        " [365] 2553 2554 2556 2557 2559 2560 2561 2562 2563 2565 2566 2568 2569 2570\n",
        " [379] 2572 2573 2574 2575 2576 2577 2579 2580 2581 2584 2585 2586 2587 2590\n",
        " [393] 2594 2595 2596 2597 2598 2599 2601 2602 2603 2604 2606 2608 2609 2610\n",
        " [407] 2611 2614 2617 2618 2619 2620 2624 2625 2627 2633 2636 2639 2640 2641\n",
        " [421] 2643 2645 2646 2648 2649 2652 2653 2655 2656 2657 2658 2659 2661 2662\n",
        " [435] 2663 2665 2666 2669 2670 2671 2672 2674 2675 2677 2678 2679 2680 2681\n",
        " [449] 2685 2687 2688 2689 2690 2692 2693 2694 2697 2698 2700 2701 2706 2707\n",
        " [463] 2710 2711 2713 2714 2715 2716 2717 2718 2719 2721 2723 2724 2725 2727\n",
        " [477] 2728 2729 2730 2731 2732 2734 2735 2736 2737 2738 2739 2740 2743 2744\n",
        " [491] 2745 2749 2752 2753 2758 2759 2763 2765 2766 2769 2772 2773 2774 2775\n",
        " [505] 2780 2791 2792 2827 2829 2837 2840 2841 2843 2846 2857 2858 2863 2866\n",
        " [519] 2867 2873 2882 2893 2896 2905 2906 2915 2917 2920 2921 2923 2924 2925\n",
        " [533] 2928 2932 2935 2939 2941 2950 2951 3000 3039 3065 3072 3086 3093 3097\n",
        " [547]  318   13   15   19   31   33   34   43   47   50   60  100  116  146\n",
        " [561]  149  157  162  164  183  189  207  231  235  236  242  246  253  269\n",
        " [575]  275  284  306  325  338  347  356  365  380  383  386  387  395  406\n",
        " [589]  409  412  427  434  439  456  462  465  476  481  487  502  504  510\n",
        " [603]  520  524  535  541  580  595  596  599  601  605  610  613  616  619\n",
        " [617]  620  636  647  655  656  659  666  680  684  687  695  699  700  708\n",
        " [631]  746  751  761  781  789  813  824  838  846  855  859  876  880  895\n",
        " [645]  899  906  918  933  937  939  951  954  955  969  977  988  994 1000\n",
        " [659] 1012 1022 1029 1040 1043 1061 1075 1076 1077 1085 1086 1087 1099 1106\n",
        " [673] 1122 1144 1152 1157 1173 1225 1230 1235 1239 1245 1249 1253 1255 1264\n",
        " [687] 1269 1278 1286 1294 1324 1327 1329 1344 1345 1349 1357 1363 1371 1376\n",
        " [701] 1380 1387 1388 1392 1393 1395 1399 1404 1407 1418 1420 1426 1434 1455\n",
        " [715] 1459 1471 1487 1490 1501 1504 1509 1511 1514 1518 1526 1528 1538 1541\n",
        " [729] 1543 1544 1549 1551 1556 1557 1558 1567 1572 1574 1575 1579 1583 1589\n",
        " [743] 1592 1660 1661 1677 1681 1691 1715 1734 1739 1758 1800 1806 1828 1874\n",
        " [757] 1876 1888 1891 1892 1905 1909 1910 1926 1928 1938 1946 1949 1954 1975\n",
        " [771] 1976 1988 2009 2031 2046 2047 2049 2055 2057 2058 2060 2061 2063 2067\n",
        " [785] 2071 2080 2082 2083 2092 2095 2105 2106 2112 2113 2114 2115 2116 2121\n",
        " [799] 2127 2131 2133 2146 2151 2152 2157 2172 2289 2317 2428 2429 2433 2434\n",
        " [813] 2437 2438 2447 2455 2472 2475 2485 2487 2493 2496 2502 2506 2512 2517\n",
        " [827] 2519 2528 2532 2539 2548 2549 2551 2555 2558 2571 2583 2588 2616 2631\n",
        " [841] 2632 2634 2635 2637 2638 2642 2664 2667 2668 2683 2684 2696 2703 2704\n",
        " [855] 2746 2751 2760 2784 2821 2822 2824 2833 2835 2836 2844 2849 2855 2856\n",
        " [869] 2872 2874 2875 2877 2879 2880 2883 2885 2888 2889 2901 2902 2910 2916\n",
        " [883] 2926 2927 2936 2943 2946 2947 2962 2964 3002 3028 3058 3067 3070 3079\n",
        " [897] 3085 3104    9   10   14   18   44   46   54   56  129  159  174  197\n",
        " [911]  201  204  219  293  340  342  399  425  438  451  466  468  480  489\n",
        " [925]  494  496  498  509  511  525  597  614  627  661  668  754  775  834\n",
        " [939]  841  845  854  861  863  867  898  910  921  927  931  935  946  960\n",
        " [953]  978 1044 1071 1097 1123 1165 1174 1247 1284 1298 1313 1332 1365 1369\n",
        " [967] 1373 1377 1391 1410 1467 1477 1478 1523 1533 1546 1586 1590 1594 1606\n",
        " [981] 1622 1626 1650 1683 1688 1689 1701 1705 1719 1896 1925 1947 1963 1981\n",
        " [995] 1982 1995 2000 2034 2043 2176 2194 2218 2219 2225 2347 2395 2439 2441\n",
        "[1009] 2454 2461 2462 2464 2488 2522 2529 2546 2550 2593 2630 2651 2682 2720\n",
        "[1023] 2754 2762 2768 2788 2790 2823 2831 2838 2853 2868 2869 2900 2952 2959\n",
        "[1037] 3038 3044 3052 3053 3080 3101 3107\n"
       ]
      }
     ],
     "prompt_number": 101
    },
    {
     "cell_type": "code",
     "collapsed": false,
     "input": [
      "%%R\n",
      "\n",
      "NA_final = sort(NA_cleaned_list)\n",
      "print(NA_final)"
     ],
     "language": "python",
     "metadata": {},
     "outputs": [
      {
       "output_type": "display_data",
       "text": [
        "   [1]    3    4    6    9   10   12   13   14   15   18   19   21   30   31\n",
        "  [15]   32   33   34   38   43   44   46   47   50   53   54   56   60   65\n",
        "  [29]   66   68   69   70   71   72   73   74   75   76   77   78   79   80\n",
        "  [43]   81   82   83   84   85   86   87   88   89   90   91   92   93   94\n",
        "  [57]  100  116  129  146  148  149  157  159  162  164  174  183  186  187\n",
        "  [71]  189  190  192  195  197  198  201  202  204  206  207  209  210  216\n",
        "  [85]  219  230  231  235  236  237  242  246  247  248  250  252  253  254\n",
        "  [99]  255  256  257  260  267  269  270  271  272  274  275  276  279  280\n",
        " [113]  283  284  289  291  293  295  296  298  299  300  301  304  306  318\n",
        " [127]  325  332  336  338  339  340  341  342  343  347  351  356  357  365\n",
        " [141]  380  381  383  386  387  388  389  391  395  399  403  404  406  409\n",
        " [155]  411  412  415  417  424  425  426  427  430  431  434  435  438  439\n",
        " [169]  447  451  455  456  459  462  464  465  466  467  468  469  470  471\n",
        " [183]  475  476  480  481  483  484  485  487  488  489  494  496  498  499\n",
        " [197]  502  503  504  505  508  509  510  511  513  515  516  518  520  524\n",
        " [211]  525  527  528  530  534  535  537  541  542  543  547  562  566  580\n",
        " [225]  595  596  597  598  599  600  601  602  605  606  607  610  611  613\n",
        " [239]  614  616  617  619  620  623  624  626  627  628  629  633  635  636\n",
        " [253]  637  644  647  655  656  657  658  659  661  663  666  667  668  669\n",
        " [267]  670  671  673  676  678  679  680  681  684  686  687  688  689  690\n",
        " [281]  695  699  700  708  746  751  753  754  758  761  773  775  776  781\n",
        " [295]  789  813  824  834  838  841  845  846  854  855  859  861  863  867\n",
        " [309]  876  880  895  896  898  899  903  906  910  911  918  919  921  922\n",
        " [323]  924  927  928  931  933  935  937  939  941  946  951  954  955  960\n",
        " [337]  963  969  976  977  978  980  981  984  986  988  990  994 1000 1011\n",
        " [351] 1012 1022 1024 1029 1030 1031 1040 1043 1044 1061 1071 1075 1076 1077\n",
        " [365] 1082 1085 1086 1087 1090 1097 1099 1103 1106 1122 1123 1129 1144 1152\n",
        " [379] 1157 1165 1173 1174 1225 1230 1231 1235 1236 1239 1245 1247 1249 1253\n",
        " [393] 1255 1256 1264 1265 1269 1271 1272 1277 1278 1280 1284 1286 1289 1293\n",
        " [407] 1294 1295 1296 1297 1298 1300 1306 1313 1318 1324 1327 1328 1329 1332\n",
        " [421] 1338 1344 1345 1347 1349 1351 1353 1356 1357 1363 1365 1366 1369 1371\n",
        " [435] 1373 1375 1376 1377 1379 1380 1384 1387 1388 1390 1391 1392 1393 1395\n",
        " [449] 1396 1399 1404 1407 1410 1418 1420 1426 1427 1431 1434 1451 1455 1459\n",
        " [463] 1462 1467 1471 1477 1478 1487 1490 1499 1501 1504 1509 1510 1511 1514\n",
        " [477] 1515 1518 1523 1524 1526 1528 1533 1538 1541 1543 1544 1546 1548 1549\n",
        " [491] 1551 1556 1557 1558 1567 1571 1572 1574 1575 1579 1580 1582 1583 1586\n",
        " [505] 1589 1590 1592 1594 1602 1606 1613 1615 1622 1624 1626 1631 1634 1636\n",
        " [519] 1648 1650 1651 1655 1656 1657 1660 1661 1677 1681 1683 1687 1688 1689\n",
        " [533] 1690 1691 1695 1698 1701 1704 1705 1709 1710 1711 1715 1719 1727 1734\n",
        " [547] 1735 1738 1739 1744 1750 1751 1758 1759 1800 1804 1805 1806 1828 1847\n",
        " [561] 1874 1875 1876 1888 1891 1892 1896 1903 1905 1909 1910 1925 1926 1928\n",
        " [575] 1936 1938 1940 1946 1947 1949 1954 1957 1960 1963 1975 1976 1977 1981\n",
        " [589] 1982 1988 1992 1995 2000 2005 2009 2012 2021 2030 2031 2032 2034 2042\n",
        " [603] 2043 2046 2047 2048 2049 2051 2052 2055 2057 2058 2060 2061 2063 2065\n",
        " [617] 2067 2068 2071 2074 2075 2076 2077 2078 2079 2080 2081 2082 2083 2085\n",
        " [631] 2087 2090 2092 2094 2095 2097 2099 2100 2102 2103 2104 2105 2106 2107\n",
        " [645] 2109 2110 2112 2113 2114 2115 2116 2121 2122 2123 2127 2129 2131 2133\n",
        " [659] 2142 2144 2146 2151 2152 2157 2158 2159 2163 2172 2176 2194 2200 2217\n",
        " [673] 2218 2219 2225 2231 2234 2241 2254 2269 2271 2276 2289 2295 2299 2317\n",
        " [687] 2347 2368 2370 2391 2394 2395 2397 2407 2419 2428 2429 2430 2433 2434\n",
        " [701] 2437 2438 2439 2440 2441 2443 2446 2447 2450 2451 2454 2455 2457 2460\n",
        " [715] 2461 2462 2464 2467 2468 2469 2470 2472 2474 2475 2477 2482 2485 2487\n",
        " [729] 2488 2490 2491 2493 2494 2495 2496 2498 2502 2503 2506 2507 2511 2512\n",
        " [743] 2513 2514 2517 2519 2522 2523 2525 2526 2527 2528 2529 2530 2531 2532\n",
        " [757] 2533 2534 2537 2538 2539 2543 2544 2545 2546 2547 2548 2549 2550 2551\n",
        " [771] 2553 2554 2555 2556 2557 2558 2559 2560 2561 2562 2563 2565 2566 2568\n",
        " [785] 2569 2570 2571 2572 2573 2574 2575 2576 2577 2579 2580 2581 2583 2584\n",
        " [799] 2585 2586 2587 2588 2590 2593 2594 2595 2596 2597 2598 2599 2601 2602\n",
        " [813] 2603 2604 2606 2608 2609 2610 2611 2614 2616 2617 2618 2619 2620 2624\n",
        " [827] 2625 2627 2630 2631 2632 2633 2634 2635 2636 2637 2638 2639 2640 2641\n",
        " [841] 2642 2643 2645 2646 2648 2649 2651 2652 2653 2655 2656 2657 2658 2659\n",
        " [855] 2661 2662 2663 2664 2665 2666 2667 2668 2669 2670 2671 2672 2674 2675\n",
        " [869] 2677 2678 2679 2680 2681 2682 2683 2684 2685 2687 2688 2689 2690 2692\n",
        " [883] 2693 2694 2696 2697 2698 2700 2701 2703 2704 2706 2707 2710 2711 2713\n",
        " [897] 2714 2715 2716 2717 2718 2719 2720 2721 2723 2724 2725 2727 2728 2729\n",
        " [911] 2730 2731 2732 2734 2735 2736 2737 2738 2739 2740 2743 2744 2745 2746\n",
        " [925] 2749 2751 2752 2753 2754 2758 2759 2760 2762 2763 2765 2766 2768 2769\n",
        " [939] 2772 2773 2774 2775 2780 2784 2788 2790 2791 2792 2821 2822 2823 2824\n",
        " [953] 2827 2829 2831 2833 2835 2836 2837 2838 2840 2841 2843 2844 2846 2849\n",
        " [967] 2853 2855 2856 2857 2858 2863 2866 2867 2868 2869 2872 2873 2874 2875\n",
        " [981] 2877 2879 2880 2882 2883 2885 2888 2889 2893 2896 2900 2901 2902 2905\n",
        " [995] 2906 2910 2915 2916 2917 2920 2921 2923 2924 2925 2926 2927 2928 2932\n",
        "[1009] 2935 2936 2939 2941 2943 2946 2947 2950 2951 2952 2959 2962 2964 3000\n",
        "[1023] 3002 3028 3038 3039 3044 3052 3053 3058 3065 3067 3070 3072 3079 3080\n",
        "[1037] 3085 3086 3093 3097 3101 3104 3107\n"
       ]
      }
     ],
     "prompt_number": 103
    },
    {
     "cell_type": "code",
     "collapsed": false,
     "input": [],
     "language": "python",
     "metadata": {},
     "outputs": []
    }
   ],
   "metadata": {}
  }
 ]
}