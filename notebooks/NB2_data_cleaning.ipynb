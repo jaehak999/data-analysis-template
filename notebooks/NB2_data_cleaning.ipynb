{
 "metadata": {
  "name": "",
  "signature": "sha256:b9e58e563599a4132a983b6c389ace7b23aba80fd967e5856b51b26807435286"
 },
 "nbformat": 3,
 "nbformat_minor": 0,
 "worksheets": [
  {
   "cells": [
    {
     "cell_type": "markdown",
     "metadata": {},
     "source": [
      "In this notebook, you'll\n",
      "\n",
      "* **load the raw data into R or Pandas dataframe** from the <code>./data/raw</code> directory using the functions and classes (written during the data gathering phase) in the <code>./script</code> directory\n",
      "\n",
      "\n",
      "* **perform visual exploration** on your data variables to detect anomalies, errors, outliers, interesting features etc.\n",
      "\n",
      "\n",
      "\n",
      "* **clean categorical and quantitative variables** (by removing observations and variables with too many missing values, by consolidating categorical variables, by selecting an appropriate subset of variables and observations for later analysis, etc.)\n",
      "\n",
      "\n",
      "* **save the cleaned data** into csv files in the <code>./data/cleaned</code> directory\n",
      "\n",
      "\n",
      "* **save interesting graphics** you obtained during visual exploration into the <code>./visualiation</code> directory"
     ]
    },
    {
     "cell_type": "markdown",
     "metadata": {},
     "source": [
      "##Team members responsible for this notebook:\n",
      "\n",
      "List the team members contributing to this notebook, along with their responsabilities:\n",
      "\n",
      "* Team Member 1: Jaehak Yu \u2014\u00a0Responsible for isolating the variables we find interesting and noting which rows have NA values\n",
      "* Team Member 2: Ha Nguyen \u2014 Responsible for converting isolated variables into rates/percentages for good data comparison and compiling all variables into a cleaned table\n",
      "* Team Member 3: Micky Wong \u2014\u00a0Responsible for removing the NA rows from the cleaned table and uploading it as a csv file into the ./data/cleaned folder\n",
      "\n",
      "I advise you to work at least in pairs for each project notebook, as you did for the homework assignments. Of course, all team members may participate to each notebook. "
     ]
    },
    {
     "cell_type": "heading",
     "level": 2,
     "metadata": {},
     "source": [
      "Example"
     ]
    },
    {
     "cell_type": "markdown",
     "metadata": {},
     "source": [
      "Here I'll load the plant data in xml format into a R data frame using the \n",
      "\n",
      "    create_df_from_plant_xml(file)\n",
      "    \n",
      "function contained in the R script \n",
      "\n",
      "        ./script/plant_df-R"
     ]
    },
    {
     "cell_type": "code",
     "collapsed": false,
     "input": [
      "%load_ext rmagic"
     ],
     "language": "python",
     "metadata": {},
     "outputs": [],
     "prompt_number": 2
    },
    {
     "cell_type": "markdown",
     "metadata": {},
     "source": [
      "To load the function into a R cell, one needs to use the\n",
      "\n",
      "    source(R_script_file)\n",
      "command in R, which works in a similar way as the \n",
      "\n",
      "    import module\n",
      "command in Python:"
     ]
    },
    {
     "cell_type": "code",
     "collapsed": false,
     "input": [
      "%%R \n",
      "\n",
      "source('./script/plant_df-R')"
     ],
     "language": "python",
     "metadata": {},
     "outputs": []
    },
    {
     "cell_type": "markdown",
     "metadata": {},
     "source": [
      "Now, we can create a data frame directly from the XML file using the functin contained in the scrip above.\n",
      "\n",
      "If you wish to perform the cleaning using Pandas data frames instead of R data frames, one make the R data frame available to Python cells by using the R magic command:\n",
      "\n",
      "    %%R -d df_name\n",
      "\n",
      "To know more on how to pass variables back and forth between R and Python cells, please have a look at the notebook [here](http://nbviewer.ipython.org/url/github.com/ipython/ipython/raw/master/examples/notebooks/R%20Magics.ipynb)."
     ]
    },
    {
     "cell_type": "code",
     "collapsed": false,
     "input": [
      "%%R -d data\n",
      "\n",
      "library(XML)\n",
      "\n",
      "data = create_df_from_plant_xml('./data/raw/plant.xml')\n"
     ],
     "language": "python",
     "metadata": {},
     "outputs": []
    },
    {
     "cell_type": "markdown",
     "metadata": {},
     "source": [
      "Now let's load our data into a Pandas data frame:"
     ]
    },
    {
     "cell_type": "code",
     "collapsed": false,
     "input": [
      "from pandas import DataFrame\n",
      "\n",
      "df = DataFrame(data)\n",
      "df.head()"
     ],
     "language": "python",
     "metadata": {},
     "outputs": []
    },
    {
     "cell_type": "markdown",
     "metadata": {},
     "source": [
      "The actual data cleaning can now begins!"
     ]
    },
    {
     "cell_type": "heading",
     "level": 1,
     "metadata": {},
     "source": [
      "Team Red Bear: Data Cleaning"
     ]
    },
    {
     "cell_type": "markdown",
     "metadata": {},
     "source": [
      "As we loaded our files as CSV files to begin with, there was no need to transform XML or XLS files into CSV. Instead we start off immediately with the data analysis. The files we have chosen to look into from the original data provided were:\n",
      "\n",
      "1. Demographics (Population Size, Population Density, Poverty Levels)\n",
      "2. Summary Measures of Health (Average Life Expectancy, Health Status, Number of Unhealthy Days)\n",
      "3. Vulnerable Populations and Environmental Health (Percentage without High School Diplomas, Unemployment Rate, Recent Drug Use, Major Depression)\n",
      "4. Risk Factors and Access to Care (Obesity, Uninsured Rate, Smokers Rate, Primary Care Physicians per 100,000)\n",
      "\n",
      "This is a total of 13 variables to evaluate. \n",
      "\n",
      "We start now with loading the files into dataframes. First, with the demographics file we target the relevant columns."
     ]
    },
    {
     "cell_type": "code",
     "collapsed": false,
     "input": [
      "%load_ext rmagic"
     ],
     "language": "python",
     "metadata": {},
     "outputs": [
      {
       "output_type": "stream",
       "stream": "stdout",
       "text": [
        "The rmagic extension is already loaded. To reload it, use:\n",
        "  %reload_ext rmagic\n"
       ]
      }
     ],
     "prompt_number": 3
    },
    {
     "cell_type": "code",
     "collapsed": false,
     "input": [
      "%%R\n",
      "\n",
      "demographics = read.csv('./data/raw/demographics.csv')\n",
      "\n",
      "population_size = demographics[['Population_Size']]\n",
      "\n",
      "population_density = demographics[['Population_Density']]\n",
      "\n",
      "poverty = demographics[['Poverty']]\n",
      "\n",
      "county_names = demographics[['CHSI_County_Name']]"
     ],
     "language": "python",
     "metadata": {},
     "outputs": [],
     "prompt_number": 4
    },
    {
     "cell_type": "markdown",
     "metadata": {},
     "source": [
      "Because some counties are small, we find that there are NA values (demarked as -2222) in both the Population Density and Poverty data. But because every list much be cleaned, we gather first the indexes of the NA values within each list in order to clean all the lists at once."
     ]
    },
    {
     "cell_type": "code",
     "collapsed": false,
     "input": [
      "%%R\n",
      "\n",
      "NA_poverty = which(poverty < 0)\n",
      "NA_population_density = which(population_density < 0)\n",
      "NA_population_size = which(population_size < 0)"
     ],
     "language": "python",
     "metadata": {},
     "outputs": [],
     "prompt_number": 5
    },
    {
     "cell_type": "markdown",
     "metadata": {},
     "source": [
      "Now that we know what the indexes within the demographics file, we add it into a list of which indexes are demarked as NA. Once compiling the total list of all values we will remove all the NA files from every single column in the final cleaned version."
     ]
    },
    {
     "cell_type": "code",
     "collapsed": false,
     "input": [
      "%%R\n",
      "\n",
      "NA_list = c(NA_poverty, NA_population_density, NA_population_size)\n",
      "print(NA_list)"
     ],
     "language": "python",
     "metadata": {},
     "outputs": [
      {
       "metadata": {},
       "output_type": "display_data",
       "text": [
        "[1] 547 250\n"
       ]
      }
     ],
     "prompt_number": 6
    },
    {
     "cell_type": "markdown",
     "metadata": {},
     "source": [
      "We then proceed with what we've been doing to every other file of interest."
     ]
    },
    {
     "cell_type": "code",
     "collapsed": false,
     "input": [
      "%%R\n",
      "\n",
      "summary = read.csv('./data/raw/summarymeasuresofhealth.csv')\n",
      "\n",
      "\n",
      "avg_life_expectancy = summary[['ALE']]\n",
      "\n",
      "health_status = summary[['Health_Status']]\n",
      "\n",
      "unhealthy_days = summary[['Unhealthy_Days']]\n",
      "\n",
      "\n",
      "NA_ALE = which(avg_life_expectancy < 0)\n",
      "\n",
      "NA_health_status = which(health_status < 0)\n",
      "\n",
      "NA_unhealthy_days = which(unhealthy_days < 0)\n",
      "\n",
      "\n",
      "NA_list = c(NA_list, NA_ALE, NA_health_status, NA_unhealthy_days)"
     ],
     "language": "python",
     "metadata": {},
     "outputs": [],
     "prompt_number": 7
    },
    {
     "cell_type": "code",
     "collapsed": false,
     "input": [
      "%%R\n",
      "\n",
      "risk = read.csv('./data/raw/riskfactorsandaccesstocare.csv')\n",
      "\n",
      "\n",
      "uninsured = risk[['Uninsured']]\n",
      "\n",
      "smoker = risk[['Smoker']]\n",
      "\n",
      "obesity = risk[['Obesity']]\n",
      "\n",
      "primary_care_physicians = risk[['Prim_Care_Phys_Rate']]\n",
      "\n",
      "\n",
      "NA_uninsured = which(uninsured < 0)\n",
      "\n",
      "NA_smoker = which(smoker < 0)\n",
      "\n",
      "NA_obesity = which(obesity < 0)\n",
      "\n",
      "NA_primary_care = which(primary_care_physicians < 0)"
     ],
     "language": "python",
     "metadata": {},
     "outputs": [],
     "prompt_number": 8
    },
    {
     "cell_type": "code",
     "collapsed": false,
     "input": [
      "%%R\n",
      "\n",
      "NA_list = c(NA_list, NA_uninsured, NA_smoker, NA_obesity, NA_primary_care)"
     ],
     "language": "python",
     "metadata": {},
     "outputs": [],
     "prompt_number": 9
    },
    {
     "cell_type": "code",
     "collapsed": false,
     "input": [
      "%%R\n",
      "\n",
      "vulnerable = read.csv('./data/raw/vulnerablepopsandenvhealth.csv')\n",
      "\n",
      "\n",
      "no_HS_diploma = vulnerable[['No_HS_Diploma']]\n",
      "\n",
      "unemployed = vulnerable[['Unemployed']]\n",
      "\n",
      "depression = vulnerable[['Major_Depression']]\n",
      "\n",
      "drugs = vulnerable[['Recent_Drug_Use']]\n",
      "\n",
      "\n",
      "NA_diploma = which(no_HS_diploma < 0)\n",
      "\n",
      "NA_unemployed = which(unemployed < 0)\n",
      "\n",
      "NA_depression = which(depression < 0)\n",
      "\n",
      "NA_drugs = which(drugs < 0)"
     ],
     "language": "python",
     "metadata": {},
     "outputs": [],
     "prompt_number": 10
    },
    {
     "cell_type": "code",
     "collapsed": false,
     "input": [
      "%%R\n",
      "\n",
      "NA_list = c(NA_list, NA_diploma, NA_unemployed, NA_depression, NA_drugs)"
     ],
     "language": "python",
     "metadata": {},
     "outputs": [],
     "prompt_number": 11
    },
    {
     "cell_type": "code",
     "collapsed": false,
     "input": [
      "%%R\n",
      "\n",
      "NA_cleaned_list = unique(NA_list)\n",
      "NA_final = sort(NA_cleaned_list)"
     ],
     "language": "python",
     "metadata": {},
     "outputs": [],
     "prompt_number": 12
    },
    {
     "cell_type": "markdown",
     "metadata": {},
     "source": [
      "Now we have all the variables we want isolated, their respective information, along with the rows that contain NA values. We then combine all the variables into a table and aim to delete all such NA rows from the table so we evaluate only those counties which have data available for all variables. While we will be removing around 1000 of the counties, we believe this will actually be for the better. We have 2000 US counties remaining and those removed were simply too small for sufficient analysis. But before doing so, we convert some of the variables into rates so that they can be compared across counties without massively skewing the data. "
     ]
    },
    {
     "cell_type": "code",
     "collapsed": false,
     "input": [
      "%%R\n",
      "\n",
      "drug_rate = (drugs / population_size) * 100\n",
      "\n",
      "depression_rate = (depression / population_size) * 100\n",
      "\n",
      "unemployed_rate = (unemployed / population_size) * 100\n",
      "\n",
      "no_HS_diploma_rate = (no_HS_diploma / population_size) * 100\n",
      "\n",
      "uninsured_rate = (uninsured / population_size) * 100"
     ],
     "language": "python",
     "metadata": {},
     "outputs": [],
     "prompt_number": 13
    },
    {
     "cell_type": "code",
     "collapsed": false,
     "input": [
      "%%R\n",
      "\n",
      "New_Cleaned_Table = data.frame(county_names, population_size, population_density, poverty, avg_life_expectancy, unhealthy_days, health_status, uninsured_rate, smoker, obesity, primary_care_physicians, no_HS_diploma_rate, unemployed_rate, depression_rate, drug_rate)\n",
      "\n",
      "print(head(New_Cleaned_Table))"
     ],
     "language": "python",
     "metadata": {},
     "outputs": [
      {
       "metadata": {},
       "output_type": "display_data",
       "text": [
        "  county_names population_size population_density poverty avg_life_expectancy\n",
        "1      Autauga           48612                 82    10.4                74.9\n",
        "2      Baldwin          162586                102    10.2                76.6\n",
        "3      Barbour           28414                 32    22.1                74.5\n",
        "4         Bibb           21516                 35    16.8                73.2\n",
        "5       Blount           55725                 86    11.9                76.1\n",
        "6      Bullock           11055                 18    26.2                71.9\n",
        "  unhealthy_days health_status uninsured_rate  smoker obesity\n",
        "1            7.5          21.8       11.70493    26.6    24.5\n",
        "2            6.7          15.4       12.17694    24.6    23.6\n",
        "3        -1111.1          21.4       18.04040    17.7    25.6\n",
        "4        -1111.1          19.4       15.40714 -1111.1 -1111.1\n",
        "5            7.9          25.8       14.59130    23.6    24.2\n",
        "6        -1111.1       -1111.1       20.75984 -1111.1 -1111.1\n",
        "  primary_care_physicians no_HS_diploma_rate unemployed_rate depression_rate\n",
        "1                    45.3           13.76203        1.592199        5.513042\n",
        "2                    67.0           12.45741        1.557945        5.753263\n",
        "3                    45.8           23.68199        2.002534        5.694376\n",
        "4                    41.8           24.88846        1.663878        5.660904\n",
        "5                    16.2           20.06460        1.469717        5.677882\n",
        "6                    54.3           25.76210        2.957938        5.662596\n",
        "  drug_rate\n",
        "1  4.924710\n",
        "2  4.768553\n",
        "3  4.937707\n",
        "4  4.805726\n",
        "5  4.800359\n",
        "6  5.110810\n"
       ]
      }
     ],
     "prompt_number": 15
    },
    {
     "cell_type": "markdown",
     "metadata": {},
     "source": [
      "Utilizing the NA_final (the list of all the row sthat have missing variables), we now proceed to delete all rows with NA values and reindex the cleaned data frame. We find that we are now evaluating a total of 2080 US counties out of the approximately 3000 that we started with. "
     ]
    },
    {
     "cell_type": "code",
     "collapsed": false,
     "input": [
      "%%R\n",
      "\n",
      "final = New_Cleaned_Table[-NA_final,]\n",
      "\n",
      "row.names(final) = 1:nrow(final)\n",
      "\n",
      "print(head(final))"
     ],
     "language": "python",
     "metadata": {},
     "outputs": [
      {
       "metadata": {},
       "output_type": "display_data",
       "text": [
        "  county_names population_size population_density poverty avg_life_expectancy\n",
        "1      Autauga           48612                 82    10.4                74.9\n",
        "2      Baldwin          162586                102    10.2                76.6\n",
        "3       Blount           55725                 86    11.9                76.1\n",
        "4       Butler           20766                 27    20.0                73.0\n",
        "5      Calhoun          112141                184    16.4                73.1\n",
        "6      Chilton           41744                 60    14.9                74.1\n",
        "  unhealthy_days health_status uninsured_rate smoker obesity\n",
        "1            7.5          21.8       11.70493   26.6    24.5\n",
        "2            6.7          15.4       12.17694   24.6    23.6\n",
        "3            7.9          25.8       14.59130   23.6    24.2\n",
        "4            6.9          21.6       19.52711   27.3    22.0\n",
        "5            8.0          26.7       14.67438   25.5    27.0\n",
        "6            9.7          26.0       14.68475   30.0    31.2\n",
        "  primary_care_physicians no_HS_diploma_rate unemployed_rate depression_rate\n",
        "1                    45.3           13.76203        1.592199        5.513042\n",
        "2                    67.0           12.45741        1.557945        5.753263\n",
        "3                    16.2           20.06460        1.469717        5.677882\n",
        "4                    43.3           21.01031        2.585958        5.605316\n",
        "5                    75.8           17.42984        1.945765        5.707101\n",
        "6                    31.1           22.71943        1.640954        5.641529\n",
        "  drug_rate\n",
        "1  4.924710\n",
        "2  4.768553\n",
        "3  4.800359\n",
        "4  4.955215\n",
        "5  4.944668\n",
        "6  4.812668\n"
       ]
      }
     ],
     "prompt_number": 16
    },
    {
     "cell_type": "code",
     "collapsed": false,
     "input": [
      "%%R\n",
      "\n",
      "names = colnames(final)\n",
      "print(names)"
     ],
     "language": "python",
     "metadata": {},
     "outputs": [
      {
       "metadata": {},
       "output_type": "display_data",
       "text": [
        " [1] \"county_names\"            \"population_size\"        \n",
        " [3] \"population_density\"      \"poverty\"                \n",
        " [5] \"avg_life_expectancy\"     \"unhealthy_days\"         \n",
        " [7] \"health_status\"           \"uninsured_rate\"         \n",
        " [9] \"smoker\"                  \"obesity\"                \n",
        "[11] \"primary_care_physicians\" \"no_HS_diploma_rate\"     \n",
        "[13] \"unemployed_rate\"         \"depression_rate\"        \n",
        "[15] \"drug_rate\"              \n"
       ]
      }
     ],
     "prompt_number": 17
    },
    {
     "cell_type": "markdown",
     "metadata": {},
     "source": [
      "Now we convert it into a csv file to be put into the \"cleaned\" folder for everyone to access."
     ]
    },
    {
     "cell_type": "code",
     "collapsed": false,
     "input": [
      "%%R\n",
      "\n",
      "write.csv(x = final, file = './data/cleaned/cleandata.csv')"
     ],
     "language": "python",
     "metadata": {},
     "outputs": [],
     "prompt_number": 18
    },
    {
     "cell_type": "code",
     "collapsed": false,
     "input": [],
     "language": "python",
     "metadata": {},
     "outputs": []
    }
   ],
   "metadata": {}
  }
 ]
}