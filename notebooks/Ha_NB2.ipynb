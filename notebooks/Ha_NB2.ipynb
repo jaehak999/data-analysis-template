{
 "metadata": {
  "name": ""
 },
 "nbformat": 3,
 "nbformat_minor": 0,
 "worksheets": [
  {
   "cells": [
    {
     "cell_type": "markdown",
     "metadata": {},
     "source": [
      "In this notebook, you'll\n",
      "\n",
      "* **load the raw data into R or Pandas dataframe** from the <code>./data/raw</code> directory using the functions and classes (written during the data gathering phase) in the <code>./script</code> directory\n",
      "\n",
      "\n",
      "* **perform visual exploration** on your data variables to detect anomalies, errors, outliers, interesting features etc.\n",
      "\n",
      "\n",
      "\n",
      "* **clean categorical and quantitative variables** (by removing observations and variables with too many missing values, by consolidating categorical variables, by selecting an appropriate subset of variables and observations for later analysis, etc.)\n",
      "\n",
      "\n",
      "* **save the cleaned data** into csv files in the <code>./data/cleaned</code> directory\n",
      "\n",
      "\n",
      "* **save interesting graphics** you obtained during visual exploration into the <code>./visualiation</code> directory"
     ]
    },
    {
     "cell_type": "markdown",
     "metadata": {},
     "source": [
      "##Team members responsible for this notebook:\n",
      "\n",
      "List the team members contributing to this notebook, along with their responsabilities:\n",
      "\n",
      "* team member 1 **name**: team member 1 **responsabilities**\n",
      "* team member 2 **name**: team member 2 **responsabilities**\n",
      "* etc.\n",
      "\n",
      "I advise you to work at least in pairs for each project notebook, as you did for the homework assignments. Of course, all team members may participate to each notebook. "
     ]
    },
    {
     "cell_type": "heading",
     "level": 2,
     "metadata": {},
     "source": [
      "Example"
     ]
    },
    {
     "cell_type": "markdown",
     "metadata": {},
     "source": [
      "Here I'll load the plant data in xml format into a R data frame using the \n",
      "\n",
      "    create_df_from_plant_xml(file)\n",
      "    \n",
      "function contained in the R script \n",
      "\n",
      "        ./script/plant_df-R"
     ]
    },
    {
     "cell_type": "code",
     "collapsed": false,
     "input": [
      "%load_ext rmagic"
     ],
     "language": "python",
     "metadata": {},
     "outputs": [
      {
       "output_type": "stream",
       "stream": "stdout",
       "text": [
        "The rmagic extension is already loaded. To reload it, use:\n",
        "  %reload_ext rmagic\n"
       ]
      }
     ],
     "prompt_number": 4
    },
    {
     "cell_type": "markdown",
     "metadata": {},
     "source": [
      "To load the function into a R cell, one needs to use the\n",
      "\n",
      "    source(R_script_file)\n",
      "command in R, which works in a similar way as the \n",
      "\n",
      "    import module\n",
      "command in Python:"
     ]
    },
    {
     "cell_type": "code",
     "collapsed": false,
     "input": [
      "%%R \n",
      "\n",
      "source('./script/plant_df-R')"
     ],
     "language": "python",
     "metadata": {},
     "outputs": [],
     "prompt_number": 5
    },
    {
     "cell_type": "markdown",
     "metadata": {},
     "source": [
      "Now, we can create a data frame directly from the XML file using the functin contained in the scrip above.\n",
      "\n",
      "If you wish to perform the cleaning using Pandas data frames instead of R data frames, one make the R data frame available to Python cells by using the R magic command:\n",
      "\n",
      "    %%R -d df_name\n",
      "\n",
      "To know more on how to pass variables back and forth between R and Python cells, please have a look at the notebook [here](http://nbviewer.ipython.org/url/github.com/ipython/ipython/raw/master/examples/notebooks/R%20Magics.ipynb)."
     ]
    },
    {
     "cell_type": "code",
     "collapsed": false,
     "input": [
      "%%R -d data\n",
      "\n",
      "library(XML)\n",
      "\n",
      "data = create_df_from_plant_xml('./data/raw/plant.xml')\n"
     ],
     "language": "python",
     "metadata": {},
     "outputs": [],
     "prompt_number": 7
    },
    {
     "cell_type": "markdown",
     "metadata": {},
     "source": [
      "Now let's load our data into a Pandas data frame:"
     ]
    },
    {
     "cell_type": "code",
     "collapsed": false,
     "input": [
      "from pandas import DataFrame\n",
      "\n",
      "df = DataFrame(data)\n",
      "df.head()"
     ],
     "language": "python",
     "metadata": {},
     "outputs": [
      {
       "html": [
        "<div style=\"max-height:1000px;max-width:1500px;overflow:auto;\">\n",
        "<table border=\"1\" class=\"dataframe\">\n",
        "  <thead>\n",
        "    <tr style=\"text-align: right;\">\n",
        "      <th></th>\n",
        "      <th>COMMON</th>\n",
        "      <th>BOTANICAL</th>\n",
        "      <th>ZONE</th>\n",
        "      <th>LIGHT</th>\n",
        "      <th>PRICE</th>\n",
        "      <th>AVAILABILITY</th>\n",
        "    </tr>\n",
        "  </thead>\n",
        "  <tbody>\n",
        "    <tr>\n",
        "      <th>0</th>\n",
        "      <td>           Bloodroot</td>\n",
        "      <td> Sanguinaria canadensis</td>\n",
        "      <td> 4</td>\n",
        "      <td> Mostly Shady</td>\n",
        "      <td> $2.44</td>\n",
        "      <td> 031599</td>\n",
        "    </tr>\n",
        "    <tr>\n",
        "      <th>1</th>\n",
        "      <td>           Columbine</td>\n",
        "      <td>   Aquilegia canadensis</td>\n",
        "      <td> 3</td>\n",
        "      <td> Mostly Shady</td>\n",
        "      <td> $9.37</td>\n",
        "      <td> 030699</td>\n",
        "    </tr>\n",
        "    <tr>\n",
        "      <th>2</th>\n",
        "      <td>      Marsh Marigold</td>\n",
        "      <td>       Caltha palustris</td>\n",
        "      <td> 4</td>\n",
        "      <td> Mostly Sunny</td>\n",
        "      <td> $6.81</td>\n",
        "      <td> 051799</td>\n",
        "    </tr>\n",
        "    <tr>\n",
        "      <th>3</th>\n",
        "      <td>             Cowslip</td>\n",
        "      <td>       Caltha palustris</td>\n",
        "      <td> 4</td>\n",
        "      <td> Mostly Shady</td>\n",
        "      <td> $9.90</td>\n",
        "      <td> 030699</td>\n",
        "    </tr>\n",
        "    <tr>\n",
        "      <th>4</th>\n",
        "      <td> Dutchman's-Breeches</td>\n",
        "      <td>    Dicentra cucullaria</td>\n",
        "      <td> 3</td>\n",
        "      <td> Mostly Shady</td>\n",
        "      <td> $6.44</td>\n",
        "      <td> 012099</td>\n",
        "    </tr>\n",
        "  </tbody>\n",
        "</table>\n",
        "</div>"
       ],
       "metadata": {},
       "output_type": "pyout",
       "prompt_number": 8,
       "text": [
        "                COMMON               BOTANICAL ZONE         LIGHT  PRICE AVAILABILITY\n",
        "0            Bloodroot  Sanguinaria canadensis    4  Mostly Shady  $2.44       031599\n",
        "1            Columbine    Aquilegia canadensis    3  Mostly Shady  $9.37       030699\n",
        "2       Marsh Marigold        Caltha palustris    4  Mostly Sunny  $6.81       051799\n",
        "3              Cowslip        Caltha palustris    4  Mostly Shady  $9.90       030699\n",
        "4  Dutchman's-Breeches     Dicentra cucullaria    3  Mostly Shady  $6.44       012099"
       ]
      }
     ],
     "prompt_number": 8
    },
    {
     "cell_type": "markdown",
     "metadata": {},
     "source": [
      "The actual data cleaning can now begins!"
     ]
    },
    {
     "cell_type": "heading",
     "level": 1,
     "metadata": {},
     "source": [
      "Team Red Bear: Data Cleaning"
     ]
    },
    {
     "cell_type": "markdown",
     "metadata": {},
     "source": [
      "As we loaded our files as CSV files to begin with, there was no need to transform XML or XLS files into CSV. Instead we start off immediately with the data analysis. The files we have chosen to look into from the original data provided were:\n",
      "\n",
      "1. Demographics (Population Size, Population Density, Poverty Levels)\n",
      "2. Summary Measures of Health (Average Life Expectancy, Health Status, Number of Unhealthy Days)\n",
      "3. Vulnerable Populations and Environmental Health (Percentage without High School Diplomas, Unemployment Rate, Recent Drug Use, Major Depression)\n",
      "4. Risk Factors and Access to Care (Obesity)\n",
      "\n",
      "We start now with loading the files into dataframes. First, with the demographics file we target the relevant columns."
     ]
    },
    {
     "cell_type": "code",
     "collapsed": false,
     "input": [
      "%load_ext rmagic"
     ],
     "language": "python",
     "metadata": {},
     "outputs": [],
     "prompt_number": 2
    },
    {
     "cell_type": "code",
     "collapsed": false,
     "input": [
      "%%R\n",
      "\n",
      "demographics = read.csv('./data/raw/demographics.csv')\n",
      "names = colnames(demographics)\n",
      "print(names)"
     ],
     "language": "python",
     "metadata": {},
     "outputs": [
      {
       "metadata": {},
       "output_type": "display_data",
       "text": [
        " [1] \"State_FIPS_Code\"            \"County_FIPS_Code\"          \n",
        " [3] \"CHSI_County_Name\"           \"CHSI_State_Name\"           \n",
        " [5] \"CHSI_State_Abbr\"            \"Strata_ID_Number\"          \n",
        " [7] \"Strata_Determining_Factors\" \"Number_Counties\"           \n",
        " [9] \"Population_Size\"            \"Min_Population_Size\"       \n",
        "[11] \"Max_Population_Size\"        \"Population_Density\"        \n",
        "[13] \"Min_Population_Density\"     \"Max_Population_Density\"    \n",
        "[15] \"Poverty\"                    \"Min_Poverty\"               \n",
        "[17] \"Max_Poverty\"                \"Age_19_Under\"              \n",
        "[19] \"Min_Age_19_Under\"           \"Max_Age_19_Under\"          \n",
        "[21] \"Age_19_64\"                  \"Min_Age_19_64\"             \n",
        "[23] \"Max_Age_19_65\"              \"Age_65_84\"                 \n",
        "[25] \"Min_Age_65_84\"              \"Max_Age_65_85\"             \n",
        "[27] \"Age_85_and_Over\"            \"Min_Age_85_and_Over\"       \n",
        "[29] \"Max_Age_85_and_Over\"        \"White\"                     \n",
        "[31] \"Min_White\"                  \"Max_White\"                 \n",
        "[33] \"Black\"                      \"Min_Black\"                 \n",
        "[35] \"Max_Black\"                  \"Native_American\"           \n",
        "[37] \"Min_Native_American\"        \"Max_Native_American\"       \n",
        "[39] \"Asian\"                      \"Min_Asian\"                 \n",
        "[41] \"Max_Asian\"                  \"Hispanic\"                  \n",
        "[43] \"Min_Hispanic\"               \"Max_Hispanic\"              \n"
       ]
      }
     ],
     "prompt_number": 5
    },
    {
     "cell_type": "code",
     "collapsed": false,
     "input": [
      "%%R\n",
      "\n",
      "population_size = demographics[['Population_Size']]\n",
      "\n",
      "population_density = demographics[['Population_Density']]\n",
      "\n",
      "poverty = demographics[['Poverty']]"
     ],
     "language": "python",
     "metadata": {},
     "outputs": [],
     "prompt_number": 6
    },
    {
     "cell_type": "markdown",
     "metadata": {},
     "source": [
      "Because some counties are small, we find that there are NA values (demarked as -2222) in both the Population Density and Poverty data. But because every list much be cleaned, we gather first the indexes of the NA values within each list in order to clean all the lists at once."
     ]
    },
    {
     "cell_type": "code",
     "collapsed": false,
     "input": [
      "%%R\n",
      "\n",
      "NA_poverty = which(poverty < 0)\n",
      "NA_population_density = which(population_density < 0)\n",
      "NA_population_size = which(population_size < 0)\n",
      "\n",
      "print(NA_population_density)"
     ],
     "language": "python",
     "metadata": {},
     "outputs": [
      {
       "metadata": {},
       "output_type": "display_data",
       "text": [
        "[1] 250\n"
       ]
      }
     ],
     "prompt_number": 7
    },
    {
     "cell_type": "markdown",
     "metadata": {},
     "source": [
      "Now that we know what the indexes within the demographics file, we add it into a list of which indexes are demarked as NA. Once compiling the total list of all values we will remove all the NA files from every single column in the final cleaned version."
     ]
    },
    {
     "cell_type": "code",
     "collapsed": false,
     "input": [
      "%%R\n",
      "\n",
      "NA_list = c(NA_poverty, NA_population_density, NA_population_size)\n",
      "print(NA_list)"
     ],
     "language": "python",
     "metadata": {},
     "outputs": [
      {
       "metadata": {},
       "output_type": "display_data",
       "text": [
        "[1] 547 250\n"
       ]
      }
     ],
     "prompt_number": 8
    },
    {
     "cell_type": "markdown",
     "metadata": {},
     "source": [
      "We then proceed with what we've been doing to every other file of interest."
     ]
    },
    {
     "cell_type": "code",
     "collapsed": false,
     "input": [
      "%%R\n",
      "\n",
      "summary = read.csv('./data/raw/leadingcauseofdeath.csv')"
     ],
     "language": "python",
     "metadata": {},
     "outputs": [],
     "prompt_number": 9
    },
    {
     "cell_type": "markdown",
     "metadata": {},
     "source": [
      "** Cleaning for \"Vulnerable Populations and Environmental Health\" **"
     ]
    },
    {
     "cell_type": "code",
     "collapsed": false,
     "input": [
      "%%R\n",
      "\n",
      "vulnerable = read.csv('./data/raw/vulnerablepopsandenvhealth.csv', header = T)\n",
      "\n",
      "print(colnames(vulnerable))\n"
     ],
     "language": "python",
     "metadata": {},
     "outputs": [
      {
       "metadata": {},
       "output_type": "display_data",
       "text": [
        " [1] \"State_FIPS_Code\"        \"County_FIPS_Code\"       \"CHSI_County_Name\"      \n",
        " [4] \"CHSI_State_Name\"        \"CHSI_State_Abbr\"        \"Strata_ID_Number\"      \n",
        " [7] \"No_HS_Diploma\"          \"Unemployed\"             \"Sev_Work_Disabled\"     \n",
        "[10] \"Major_Depression\"       \"Recent_Drug_Use\"        \"Ecol_Rpt\"              \n",
        "[13] \"Ecol_Rpt_Ind\"           \"Ecol_Exp\"               \"Salm_Rpt\"              \n",
        "[16] \"Salm_Rpt_Ind\"           \"Salm_Exp\"               \"Shig_Rpt\"              \n",
        "[19] \"Shig_Rpt_Ind\"           \"Shig_Exp\"               \"Toxic_Chem\"            \n",
        "[22] \"Carbon_Monoxide_Ind\"    \"Nitrogen_Dioxide_Ind\"   \"Sulfur_Dioxide_Ind\"    \n",
        "[25] \"Ozone_Ind\"              \"Particulate_Matter_Ind\" \"Lead_Ind\"              \n",
        "[28] \"EH_Time_Span\"          \n"
       ]
      }
     ],
     "prompt_number": 3
    },
    {
     "cell_type": "markdown",
     "metadata": {},
     "source": [
      "Generate a data that contains information of .... from the vulnerable "
     ]
    },
    {
     "cell_type": "code",
     "collapsed": false,
     "input": [
      "%%R\n",
      "\n",
      "gen_vulnerable = vulnerable[c(\"No_HS_Diploma\", \"Unemployed\", \"Major_Depression\", \"Recent_Drug_Use\")]\n",
      "\n",
      "print(head(gen_vulnerable))\n",
      "\n",
      "cat(\"\\n\\n\")\n",
      "\n",
      "print(colnames(gen_vulnerable))\n",
      "\n",
      "cat(\"\\n\\nNumber of observations: \", dim(gen_vulnerable)[1])"
     ],
     "language": "python",
     "metadata": {},
     "outputs": [
      {
       "metadata": {},
       "output_type": "display_data",
       "text": [
        "  No_HS_Diploma Unemployed Major_Depression Recent_Drug_Use\n",
        "1          6690        774             2680            2394\n",
        "2         20254       2533             9354            7753\n",
        "3          6729        569             1618            1403\n",
        "4          5355        358             1218            1034\n",
        "5         11181        819             3164            2675\n",
        "6          2848        327              626             565\n",
        "\n",
        "\n",
        "[1] \"No_HS_Diploma\"    \"Unemployed\"       \"Major_Depression\" \"Recent_Drug_Use\" \n",
        "\n",
        "\n",
        "Number of observations:  3141"
       ]
      }
     ],
     "prompt_number": 4
    },
    {
     "cell_type": "markdown",
     "metadata": {},
     "source": [
      "Detect the missing value from the generated data above"
     ]
    },
    {
     "cell_type": "code",
     "collapsed": false,
     "input": [
      "%%R\n",
      "\n",
      "NA_NoHSDiploma = which(gen_vulnerable$No_HS_Diploma < 0)\n",
      "NA_Unemployed = which(gen_vulnerable$Unemployed < 0)\n",
      "NA_MajorDep = which(gen_vulnerable$Major_Depression < 0)\n",
      "NA_Drug = which(gen_vulnerable$Recent_Drug_Use < 0)\n",
      "\n",
      "print(NA_NoHSDiploma)\n",
      "print(NA_Unemployed)\n",
      "print(NA_MajorDep)\n",
      "print(NA_Drug)"
     ],
     "language": "python",
     "metadata": {},
     "outputs": [
      {
       "metadata": {},
       "output_type": "display_data",
       "text": [
        "[1] 250\n",
        "[1]  547 1137 1147 1149 1155 1156 1159 1163\n",
        "integer(0)\n",
        "integer(0)\n"
       ]
      }
     ],
     "prompt_number": 5
    },
    {
     "cell_type": "markdown",
     "metadata": {},
     "source": [
      "Delete rows do not have information on Percentage without High School Diplomas, Unemployment Rate, Recent Drug Use, Major Depression"
     ]
    },
    {
     "cell_type": "code",
     "collapsed": false,
     "input": [
      "%%R\n",
      "\n",
      "cleaned_vul = gen_vulnerable[- c(NA_NoHSDiploma, NA_Unemployed, NA_MajorDep, NA_Drug),]\n",
      "\n",
      "cat(\"\\n\\nNumber of observations: \", dim(cleaned_vul)[1])"
     ],
     "language": "python",
     "metadata": {},
     "outputs": [
      {
       "metadata": {},
       "output_type": "display_data",
       "text": [
        "\n",
        "\n",
        "Number of observations:  3132"
       ]
      }
     ],
     "prompt_number": 6
    },
    {
     "cell_type": "code",
     "collapsed": false,
     "input": [],
     "language": "python",
     "metadata": {},
     "outputs": []
    }
   ],
   "metadata": {}
  }
 ]
}